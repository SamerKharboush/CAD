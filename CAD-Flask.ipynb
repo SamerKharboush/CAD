{
 "cells": [
  {
   "cell_type": "code",
   "execution_count": 1,
   "metadata": {},
   "outputs": [],
   "source": [
    "import cv2\n",
    "import os\n",
    "from PIL import Image\n",
    "import numpy as np\n",
    "from sklearn.model_selection import train_test_split\n",
    "import tensorflow as tf \n",
    "from tensorflow.keras.utils import normalize\n",
    "from keras.models import Sequential\n",
    "from keras.layers import Conv2D, MaxPooling2D, Activation, Dropout, Flatten, Dense"
   ]
  },
  {
   "cell_type": "code",
   "execution_count": 2,
   "metadata": {},
   "outputs": [],
   "source": [
    "image_directory= 'dataset/'"
   ]
  },
  {
   "cell_type": "code",
   "execution_count": 3,
   "metadata": {},
   "outputs": [],
   "source": [
    "NO_CAD = os.listdir(image_directory + 'no/')\n",
    "YES_CAD = os.listdir(image_directory + 'yes/')\n",
    "dataset=[]\n",
    "label=[]\n",
    "input_size=64"
   ]
  },
  {
   "cell_type": "code",
   "execution_count": 5,
   "metadata": {},
   "outputs": [],
   "source": [
    "for i , image_name in enumerate(YES_CAD):\n",
    "    if(image_name.split('.')[1]=='jpg'):\n",
    "        image = cv2.imread(image_directory+ 'yes/' +image_name)\n",
    "        image = Image.fromarray(image, 'RGB')\n",
    "        image = image.resize((input_size,input_size))\n",
    "        dataset.append(np.array(image))\n",
    "        label.append(1)"
   ]
  },
  {
   "cell_type": "code",
   "execution_count": 6,
   "metadata": {},
   "outputs": [],
   "source": [
    "for i , image_name in enumerate(NO_CAD):\n",
    "    if(image_name.split('.')[1]=='jpg'):\n",
    "        image = cv2.imread(image_directory+ 'no/' +image_name)\n",
    "        image = Image.fromarray(image, 'RGB')\n",
    "        image = image.resize((input_size,input_size))\n",
    "        dataset.append(np.array(image))\n",
    "        label.append(0)"
   ]
  },
  {
   "cell_type": "code",
   "execution_count": 7,
   "metadata": {},
   "outputs": [
    {
     "name": "stdout",
     "output_type": "stream",
     "text": [
      "23775\n",
      "23775\n"
     ]
    }
   ],
   "source": [
    "print(len(label))\n",
    "print(len(dataset))"
   ]
  },
  {
   "cell_type": "code",
   "execution_count": 8,
   "metadata": {},
   "outputs": [],
   "source": [
    "dataset = np.array(dataset)\n",
    "label= np.array(label)"
   ]
  },
  {
   "cell_type": "code",
   "execution_count": 9,
   "metadata": {},
   "outputs": [],
   "source": [
    "x_train, x_test, y_train, y_test = train_test_split(dataset, label, test_size=0.2)"
   ]
  },
  {
   "cell_type": "code",
   "execution_count": 10,
   "metadata": {},
   "outputs": [],
   "source": [
    "x_train = normalize(x_train, axis=1)\n",
    "x_test = normalize(x_test, axis=1)"
   ]
  },
  {
   "cell_type": "code",
   "execution_count": 11,
   "metadata": {},
   "outputs": [
    {
     "name": "stdout",
     "output_type": "stream",
     "text": [
      "Epoch 1/15\n",
      "1189/1189 [==============================] - 123s 100ms/step - loss: 0.0838 - accuracy: 0.9787 - val_loss: 0.0680 - val_accuracy: 0.9809\n",
      "Epoch 2/15\n",
      "1189/1189 [==============================] - 130s 109ms/step - loss: 0.0386 - accuracy: 0.9829 - val_loss: 0.0468 - val_accuracy: 0.9832\n",
      "Epoch 3/15\n",
      "1189/1189 [==============================] - 106s 89ms/step - loss: 0.0238 - accuracy: 0.9894 - val_loss: 0.0215 - val_accuracy: 0.9922\n",
      "Epoch 4/15\n",
      "1189/1189 [==============================] - 104s 87ms/step - loss: 0.0163 - accuracy: 0.9931 - val_loss: 0.0222 - val_accuracy: 0.9947\n",
      "Epoch 5/15\n",
      "1189/1189 [==============================] - 104s 88ms/step - loss: 0.0123 - accuracy: 0.9963 - val_loss: 0.0127 - val_accuracy: 0.9977\n",
      "Epoch 6/15\n",
      "1189/1189 [==============================] - 102s 86ms/step - loss: 0.0089 - accuracy: 0.9968 - val_loss: 0.0125 - val_accuracy: 0.9968\n",
      "Epoch 7/15\n",
      "1189/1189 [==============================] - 100s 84ms/step - loss: 0.0080 - accuracy: 0.9979 - val_loss: 0.0176 - val_accuracy: 0.9960\n",
      "Epoch 8/15\n",
      "1189/1189 [==============================] - 101s 85ms/step - loss: 0.0046 - accuracy: 0.9990 - val_loss: 0.0106 - val_accuracy: 0.9977\n",
      "Epoch 9/15\n",
      "1189/1189 [==============================] - 97s 81ms/step - loss: 0.0062 - accuracy: 0.9983 - val_loss: 0.0206 - val_accuracy: 0.9975\n",
      "Epoch 10/15\n",
      "1189/1189 [==============================] - 101s 85ms/step - loss: 0.0058 - accuracy: 0.9986 - val_loss: 0.0058 - val_accuracy: 0.9985\n",
      "Epoch 11/15\n",
      "1189/1189 [==============================] - 100s 84ms/step - loss: 0.0019 - accuracy: 0.9995 - val_loss: 0.0031 - val_accuracy: 0.9985\n",
      "Epoch 12/15\n",
      "1189/1189 [==============================] - 100s 84ms/step - loss: 0.0043 - accuracy: 0.9989 - val_loss: 0.0062 - val_accuracy: 0.9989\n",
      "Epoch 13/15\n",
      "1189/1189 [==============================] - 102s 85ms/step - loss: 0.0035 - accuracy: 0.9988 - val_loss: 0.0060 - val_accuracy: 0.9975\n",
      "Epoch 14/15\n",
      "1189/1189 [==============================] - 106s 89ms/step - loss: 0.0025 - accuracy: 0.9994 - val_loss: 0.0136 - val_accuracy: 0.9987\n",
      "Epoch 15/15\n",
      "1189/1189 [==============================] - 105s 88ms/step - loss: 0.0031 - accuracy: 0.9992 - val_loss: 0.0040 - val_accuracy: 0.9989\n"
     ]
    }
   ],
   "source": [
    "model= Sequential()\n",
    "model.add(Conv2D(32, (3,3), input_shape=(input_size,input_size, 3)))\n",
    "model.add(Activation('relu'))\n",
    "model.add(MaxPooling2D(pool_size=(2,2)))\n",
    "\n",
    "model.add(Conv2D(32, (3,3), kernel_initializer='he_uniform'))\n",
    "model.add(Activation('relu'))\n",
    "model.add(MaxPooling2D(pool_size=(2,2)))\n",
    "\n",
    "model.add(Conv2D(64, (3,3), kernel_initializer='he_uniform'))\n",
    "model.add(Activation('relu'))\n",
    "model.add(MaxPooling2D(pool_size=(2,2)))\n",
    "\n",
    "model.add(Flatten())\n",
    "model.add(Dense(64))\n",
    "model.add(Activation('relu'))\n",
    "model.add(Dropout(0.5))\n",
    "model.add(Dense(1))\n",
    "model.add(Activation('sigmoid'))\n",
    "\n",
    "model.compile(loss='binary_crossentropy', optimizer='adam', metrics=['accuracy'])\n",
    "model.fit(x_train, y_train, batch_size=16, verbose=1, epochs=15, validation_data=(x_test, y_test), shuffle=False)\n",
    "\n",
    "model.save('CAD-Flask.h5')"
   ]
  },
  {
   "cell_type": "code",
   "execution_count": null,
   "metadata": {},
   "outputs": [],
   "source": []
  }
 ],
 "metadata": {
  "interpreter": {
   "hash": "5034687d4dec08762a8fb8c75beaa09e326dabf36d6301ba35ed15cf4f88efcc"
  },
  "kernelspec": {
   "display_name": "Python 3.9.7 ('Torch')",
   "language": "python",
   "name": "python3"
  },
  "language_info": {
   "codemirror_mode": {
    "name": "ipython",
    "version": 3
   },
   "file_extension": ".py",
   "mimetype": "text/x-python",
   "name": "python",
   "nbconvert_exporter": "python",
   "pygments_lexer": "ipython3",
   "version": "3.9.7"
  },
  "orig_nbformat": 4
 },
 "nbformat": 4,
 "nbformat_minor": 2
}
